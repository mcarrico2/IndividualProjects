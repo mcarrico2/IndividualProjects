{
 "cells": [
  {
   "cell_type": "markdown",
   "id": "425c6eb4",
   "metadata": {},
   "source": [
    "Individual Project 2 Matthew Carrico Ver 1.0 DS-160-01"
   ]
  },
  {
   "cell_type": "code",
   "execution_count": 1,
   "id": "8e9eb3ab",
   "metadata": {},
   "outputs": [],
   "source": [
    "import numpy as np"
   ]
  },
  {
   "cell_type": "code",
   "execution_count": 2,
   "id": "8ae0fb0d",
   "metadata": {},
   "outputs": [
    {
     "name": "stdout",
     "output_type": "stream",
     "text": [
      "[[10 20]\n",
      " [30 40]]\n"
     ]
    }
   ],
   "source": [
    "list1=np.array([[10, 20], [30, 40]])\n",
    "print(list1)"
   ]
  },
  {
   "cell_type": "code",
   "execution_count": 3,
   "id": "e9da3e86",
   "metadata": {},
   "outputs": [
    {
     "name": "stdout",
     "output_type": "stream",
     "text": [
      "[[2.20264658e+04 4.85165195e+08]\n",
      " [1.06864746e+13 2.35385267e+17]]\n"
     ]
    }
   ],
   "source": [
    "list2=np.exp(list1)\n",
    "print(list2)"
   ]
  },
  {
   "cell_type": "code",
   "execution_count": 4,
   "id": "f3ab4c50",
   "metadata": {},
   "outputs": [
    {
     "name": "stdout",
     "output_type": "stream",
     "text": [
      "[[110 120]\n",
      " [130 140]]\n"
     ]
    }
   ],
   "source": [
    "list3=np.add(list1,100)\n",
    "print(list3)"
   ]
  },
  {
   "cell_type": "code",
   "execution_count": 5,
   "id": "3a60a61f",
   "metadata": {},
   "outputs": [
    {
     "name": "stdout",
     "output_type": "stream",
     "text": [
      "[[ 50 100]\n",
      " [150 200]]\n"
     ]
    }
   ],
   "source": [
    "list4=np.multiply(list1,5)\n",
    "print(list4)"
   ]
  },
  {
   "cell_type": "code",
   "execution_count": 6,
   "id": "25f4be70",
   "metadata": {},
   "outputs": [
    {
     "name": "stdout",
     "output_type": "stream",
     "text": [
      "[[3.16227766 4.47213595]\n",
      " [5.47722558 6.32455532]]\n"
     ]
    }
   ],
   "source": [
    "list5=np.sqrt(list1)\n",
    "print(list5)"
   ]
  },
  {
   "cell_type": "code",
   "execution_count": 10,
   "id": "9fbba835",
   "metadata": {},
   "outputs": [
    {
     "name": "stdout",
     "output_type": "stream",
     "text": [
      "[[ 30.   67.5 112.5]\n",
      " [165.  225.  292.5]\n",
      " [367.5 450.  540. ]]\n"
     ]
    }
   ],
   "source": [
    "array1 = np.arange(3, 30, 3).reshape(3, 3)\n",
    "array2 = np.linspace(10, 20, 9).reshape(3, 3)\n",
    "\n",
    "result = array1 * array2\n",
    "print(result)"
   ]
  },
  {
   "cell_type": "code",
   "execution_count": 11,
   "id": "625634e8",
   "metadata": {},
   "outputs": [],
   "source": [
    "arr1=np.load(\"process1.npy\")\n",
    "arr2=np.load(\"process2.npy\")\n",
    "arr3=np.load(\"process3.npy\")\n",
    "arr4=np.load(\"process4.npy\")\n",
    "arr5=np.load(\"process5.npy\")"
   ]
  },
  {
   "cell_type": "code",
   "execution_count": 12,
   "id": "d65c7550",
   "metadata": {},
   "outputs": [
    {
     "name": "stdout",
     "output_type": "stream",
     "text": [
      "[72.  27.8 45.6 12.  47.8]\n"
     ]
    }
   ],
   "source": [
    "dataset=np.vstack((arr1,arr2,arr3,arr4,arr5))\n",
    "colum_mean = np.mean(dataset, axis=0)\n",
    "print(colum_mean)"
   ]
  }
 ],
 "metadata": {
  "kernelspec": {
   "display_name": "Python 3 (ipykernel)",
   "language": "python",
   "name": "python3"
  },
  "language_info": {
   "codemirror_mode": {
    "name": "ipython",
    "version": 3
   },
   "file_extension": ".py",
   "mimetype": "text/x-python",
   "name": "python",
   "nbconvert_exporter": "python",
   "pygments_lexer": "ipython3",
   "version": "3.9.12"
  }
 },
 "nbformat": 4,
 "nbformat_minor": 5
}
